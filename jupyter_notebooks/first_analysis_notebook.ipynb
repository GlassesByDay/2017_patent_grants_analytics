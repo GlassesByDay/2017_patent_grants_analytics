{
 "cells": [
  {
   "cell_type": "code",
   "execution_count": null,
   "metadata": {
    "collapsed": true
   },
   "outputs": [],
   "source": [
    "import xml.etree.ElementTree as ET\n",
    "import pandas as pd\n",
    "\n",
    "xml_patent_data = open('FILEPATH HERE').read() #need to add file path to clean xml data\n",
    "\n",
    "def patent_xml2df(xml_data):\n",
    "    root = ET.XML(xml_data)\n",
    "    all_records = []\n",
    "    for patent in root:\n",
    "        record = {}\n",
    "        for element in patent[0]:\n",
    "            if element.tag == 'publication-reference':\n",
    "                for item in element[0]:\n",
    "                    if item.tag == 'date':\n",
    "                        record['grant_date'] = item.text\n",
    "                    elif item.tag in ('country','doc-number'):\n",
    "                        record[item.tag] = item.text\n",
    "            elif element.tag == 'application-reference':\n",
    "                record['application_type'] = element.get('appl-type')\n",
    "                for item in element[0]:\n",
    "                    if item.tag == 'date':\n",
    "                        record['filing_date'] = item.text\n",
    "                    elif item.tag == 'doc-number':\n",
    "                        record['application_number'] = item.text\n",
    "            elif element.tag == 'figures':\n",
    "                for item in element:\n",
    "                    record[item.tag] = item.text\n",
    "            elif element.tag in ('number-of-claims','invention-title'):\n",
    "                record[element.tag] = element.text\n",
    "                \n",
    "        all_records.append(record)\n",
    "    return pd.DataFrame(all_records)\n",
    "\n",
    "subset_df = patent_xml2df(xml_patent_data)\n",
    "\n",
    "xml_patent_data_2 = open('./patent_full_clean.xml').read()\n",
    "\n",
    "full_df = patent_xml2df(xml_patent_data_2)"
   ]
  }
 ],
 "metadata": {
  "kernelspec": {
   "display_name": "Python 3",
   "language": "python",
   "name": "python3"
  },
  "language_info": {
   "codemirror_mode": {
    "name": "ipython",
    "version": 3
   },
   "file_extension": ".py",
   "mimetype": "text/x-python",
   "name": "python",
   "nbconvert_exporter": "python",
   "pygments_lexer": "ipython3",
   "version": "3.6.3"
  }
 },
 "nbformat": 4,
 "nbformat_minor": 2
}
