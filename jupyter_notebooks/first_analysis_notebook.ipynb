{
 "cells": [
  {
   "cell_type": "code",
   "execution_count": 1,
   "metadata": {
    "collapsed": true
   },
   "outputs": [],
   "source": [
    "# run script to clean and format raw xml data files\n",
    "\n",
    "%run \"../scripts/xml_cleaner.py\""
   ]
  },
  {
   "cell_type": "code",
   "execution_count": 2,
   "metadata": {
    "collapsed": true
   },
   "outputs": [],
   "source": [
    "import xml.etree.ElementTree as ET\n",
    "import pandas as pd\n",
    "\n",
    "# custom function for extracting data from xml and saving to pandas DataFrame\n",
    "def patent_xml2df(xml_data):\n",
    "    root = ET.XML(xml_data)\n",
    "    all_records = []\n",
    "    for patent in root:\n",
    "        record = {}\n",
    "        for element in patent[0]:\n",
    "            if element.tag == 'publication-reference':\n",
    "                for item in element[0]:\n",
    "                    if item.tag == 'date':\n",
    "                        record['grant_date'] = item.text\n",
    "                    elif item.tag in ('country','doc-number'):\n",
    "                        record[item.tag] = item.text\n",
    "            elif element.tag == 'application-reference':\n",
    "                record['application_type'] = element.get('appl-type')\n",
    "                for item in element[0]:\n",
    "                    if item.tag == 'date':\n",
    "                        record['filing_date'] = item.text\n",
    "                    elif item.tag == 'doc-number':\n",
    "                        record['application_number'] = item.text\n",
    "            elif element.tag == 'figures':\n",
    "                for item in element:\n",
    "                    record[item.tag] = item.text\n",
    "            elif element.tag in ('number-of-claims','invention-title'):\n",
    "                record[element.tag] = element.text\n",
    "        all_records.append(record)\n",
    "    return pd.DataFrame(all_records)"
   ]
  },
  {
   "cell_type": "code",
   "execution_count": 3,
   "metadata": {},
   "outputs": [],
   "source": [
    "import glob\n",
    "\n",
    "# use globbing to get all names of cleaned xml file paths\n",
    "clean_files = glob.glob('../clean_data/*')\n",
    "\n",
    "\n",
    "# loop over file names, extract data and concatenate into single DataFrame\n",
    "xml_data_list = []\n",
    "for clean_file in clean_files:\n",
    "    data = open(clean_file).read()\n",
    "    df = patent_xml2df(data)\n",
    "    xml_data_list.append(df)\n",
    "\n",
    "patents_df = pd.concat(xml_data_list, ignore_index=True)\n",
    "    "
   ]
  },
  {
   "cell_type": "code",
   "execution_count": 4,
   "metadata": {
    "collapsed": true
   },
   "outputs": [],
   "source": [
    "# change the \"filing_date\" and \"grant_date\" columns to datetime objects\n",
    "patents_df['filing_date'] = pd.to_datetime(patents_df['filing_date'])\n",
    "patents_df['grant_date'] = pd.to_datetime(patents_df['grant_date'])"
   ]
  },
  {
   "cell_type": "code",
   "execution_count": 5,
   "metadata": {},
   "outputs": [
    {
     "name": "stdout",
     "output_type": "stream",
     "text": [
      "<class 'pandas.core.frame.DataFrame'>\n",
      "RangeIndex: 37764 entries, 0 to 37763\n",
      "Data columns (total 10 columns):\n",
      "application_number          37764 non-null object\n",
      "application_type            37764 non-null object\n",
      "country                     37764 non-null object\n",
      "doc-number                  37764 non-null object\n",
      "filing_date                 37764 non-null datetime64[ns]\n",
      "grant_date                  37764 non-null datetime64[ns]\n",
      "invention-title             37617 non-null object\n",
      "number-of-claims            37764 non-null object\n",
      "number-of-drawing-sheets    36501 non-null object\n",
      "number-of-figures           36501 non-null object\n",
      "dtypes: datetime64[ns](2), object(8)\n",
      "memory usage: 2.9+ MB\n"
     ]
    }
   ],
   "source": [
    "patents_df.info()"
   ]
  },
  {
   "cell_type": "code",
   "execution_count": null,
   "metadata": {
    "collapsed": true
   },
   "outputs": [],
   "source": []
  }
 ],
 "metadata": {
  "kernelspec": {
   "display_name": "Python 3",
   "language": "python",
   "name": "python3"
  },
  "language_info": {
   "codemirror_mode": {
    "name": "ipython",
    "version": 3
   },
   "file_extension": ".py",
   "mimetype": "text/x-python",
   "name": "python",
   "nbconvert_exporter": "python",
   "pygments_lexer": "ipython3",
   "version": "3.6.3"
  }
 },
 "nbformat": 4,
 "nbformat_minor": 2
}
