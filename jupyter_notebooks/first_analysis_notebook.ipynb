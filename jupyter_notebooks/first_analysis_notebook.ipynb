{
 "cells": [
  {
   "cell_type": "code",
   "execution_count": 1,
   "metadata": {},
   "outputs": [],
   "source": [
    "%run \"../scripts/xml_cleaner.py\""
   ]
  },
  {
   "cell_type": "code",
   "execution_count": 10,
   "metadata": {},
   "outputs": [],
   "source": [
    "import xml.etree.ElementTree as ET\n",
    "import pandas as pd\n",
    "\n",
    "xml_patent_data = open('../clean_data/clean_ipgb20171226.xml').read() #need to add file path to clean xml data\n",
    "\n",
    "def patent_xml2df(xml_data):\n",
    "    root = ET.XML(xml_data)\n",
    "    all_records = []\n",
    "    for patent in root:\n",
    "        record = {}\n",
    "        for element in patent[0]:\n",
    "            if element.tag == 'publication-reference':\n",
    "                for item in element[0]:\n",
    "                    if item.tag == 'date':\n",
    "                        record['grant_date'] = item.text\n",
    "                    elif item.tag in ('country','doc-number'):\n",
    "                        record[item.tag] = item.text\n",
    "            elif element.tag == 'application-reference':\n",
    "                record['application_type'] = element.get('appl-type')\n",
    "                for item in element[0]:\n",
    "                    if item.tag == 'date':\n",
    "                        record['filing_date'] = item.text\n",
    "                    elif item.tag == 'doc-number':\n",
    "                        record['application_number'] = item.text\n",
    "            elif element.tag == 'figures':\n",
    "                for item in element:\n",
    "                    record[item.tag] = item.text\n",
    "            elif element.tag in ('number-of-claims','invention-title'):\n",
    "                record[element.tag] = element.text\n",
    "                \n",
    "        all_records.append(record)\n",
    "    return pd.DataFrame(all_records)\n",
    "\n",
    "patent_df = patent_xml2df(xml_patent_data)"
   ]
  },
  {
   "cell_type": "code",
   "execution_count": 11,
   "metadata": {},
   "outputs": [
    {
     "name": "stdout",
     "output_type": "stream",
     "text": [
      "<class 'pandas.core.frame.DataFrame'>\n",
      "RangeIndex: 6841 entries, 0 to 6840\n",
      "Data columns (total 10 columns):\n",
      "application_number          6841 non-null object\n",
      "application_type            6841 non-null object\n",
      "country                     6841 non-null object\n",
      "doc-number                  6841 non-null object\n",
      "filing_date                 6841 non-null object\n",
      "grant_date                  6841 non-null object\n",
      "invention-title             6804 non-null object\n",
      "number-of-claims            6841 non-null object\n",
      "number-of-drawing-sheets    6634 non-null object\n",
      "number-of-figures           6634 non-null object\n",
      "dtypes: object(10)\n",
      "memory usage: 534.5+ KB\n"
     ]
    }
   ],
   "source": [
    "patent_df.info()"
   ]
  },
  {
   "cell_type": "code",
   "execution_count": null,
   "metadata": {
    "collapsed": true
   },
   "outputs": [],
   "source": [
    "# Need to change the \"filing_date\" and \"grant_date\" columns to datetime objects\n"
   ]
  }
 ],
 "metadata": {
  "kernelspec": {
   "display_name": "Python 3",
   "language": "python",
   "name": "python3"
  },
  "language_info": {
   "codemirror_mode": {
    "name": "ipython",
    "version": 3
   },
   "file_extension": ".py",
   "mimetype": "text/x-python",
   "name": "python",
   "nbconvert_exporter": "python",
   "pygments_lexer": "ipython3",
   "version": "3.6.3"
  }
 },
 "nbformat": 4,
 "nbformat_minor": 2
}
