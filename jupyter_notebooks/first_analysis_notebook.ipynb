{
 "cells": [
  {
   "cell_type": "code",
   "execution_count": 1,
   "metadata": {},
   "outputs": [],
   "source": [
    "%run \"../scripts/xml_cleaner.py\""
   ]
  },
  {
   "cell_type": "code",
   "execution_count": 2,
   "metadata": {},
   "outputs": [],
   "source": [
    "import xml.etree.ElementTree as ET\n",
    "import pandas as pd\n",
    "\n",
    "xml_patent_data = open('../clean_data/clean_ipgb20171226.xml').read() #need to add file path to clean xml data\n",
    "\n",
    "def patent_xml2df(xml_data):\n",
    "    root = ET.XML(xml_data)\n",
    "    all_records = []\n",
    "    for patent in root:\n",
    "        record = {}\n",
    "        for element in patent[0]:\n",
    "            if element.tag == 'publication-reference':\n",
    "                for item in element[0]:\n",
    "                    if item.tag == 'date':\n",
    "                        record['grant_date'] = item.text\n",
    "                    elif item.tag in ('country','doc-number'):\n",
    "                        record[item.tag] = item.text\n",
    "            elif element.tag == 'application-reference':\n",
    "                record['application_type'] = element.get('appl-type')\n",
    "                for item in element[0]:\n",
    "                    if item.tag == 'date':\n",
    "                        record['filing_date'] = item.text\n",
    "                    elif item.tag == 'doc-number':\n",
    "                        record['application_number'] = item.text\n",
    "            elif element.tag == 'figures':\n",
    "                for item in element:\n",
    "                    record[item.tag] = item.text\n",
    "            elif element.tag in ('number-of-claims','invention-title'):\n",
    "                record[element.tag] = element.text\n",
    "                \n",
    "        all_records.append(record)\n",
    "    return pd.DataFrame(all_records)\n",
    "\n",
    "patent_df = patent_xml2df(xml_patent_data)"
   ]
  },
  {
   "cell_type": "code",
   "execution_count": 3,
   "metadata": {},
   "outputs": [
    {
     "name": "stdout",
     "output_type": "stream",
     "text": [
      "<class 'pandas.core.frame.DataFrame'>\n",
      "RangeIndex: 6841 entries, 0 to 6840\n",
      "Data columns (total 10 columns):\n",
      "application_number          6841 non-null object\n",
      "application_type            6841 non-null object\n",
      "country                     6841 non-null object\n",
      "doc-number                  6841 non-null object\n",
      "filing_date                 6841 non-null object\n",
      "grant_date                  6841 non-null object\n",
      "invention-title             6804 non-null object\n",
      "number-of-claims            6841 non-null object\n",
      "number-of-drawing-sheets    6634 non-null object\n",
      "number-of-figures           6634 non-null object\n",
      "dtypes: object(10)\n",
      "memory usage: 534.5+ KB\n"
     ]
    }
   ],
   "source": [
    "patent_df.info()"
   ]
  },
  {
   "cell_type": "code",
   "execution_count": 9,
   "metadata": {},
   "outputs": [],
   "source": [
    "# change the \"filing_date\" and \"grant_date\" columns to datetime objects\n",
    "patent_df['filing_date'] = pd.to_datetime(patent_df['filing_date'])\n",
    "patent_df['grant_date'] = pd.to_datetime(patent_df['grant_date'])"
   ]
  },
  {
   "cell_type": "code",
   "execution_count": 11,
   "metadata": {},
   "outputs": [
    {
     "data": {
      "text/html": [
       "<div>\n",
       "<style>\n",
       "    .dataframe thead tr:only-child th {\n",
       "        text-align: right;\n",
       "    }\n",
       "\n",
       "    .dataframe thead th {\n",
       "        text-align: left;\n",
       "    }\n",
       "\n",
       "    .dataframe tbody tr th {\n",
       "        vertical-align: top;\n",
       "    }\n",
       "</style>\n",
       "<table border=\"1\" class=\"dataframe\">\n",
       "  <thead>\n",
       "    <tr style=\"text-align: right;\">\n",
       "      <th></th>\n",
       "      <th>application_number</th>\n",
       "      <th>application_type</th>\n",
       "      <th>country</th>\n",
       "      <th>doc-number</th>\n",
       "      <th>filing_date</th>\n",
       "      <th>grant_date</th>\n",
       "      <th>invention-title</th>\n",
       "      <th>number-of-claims</th>\n",
       "      <th>number-of-drawing-sheets</th>\n",
       "      <th>number-of-figures</th>\n",
       "    </tr>\n",
       "  </thead>\n",
       "  <tbody>\n",
       "    <tr>\n",
       "      <th>0</th>\n",
       "      <td>29583371</td>\n",
       "      <td>design</td>\n",
       "      <td>US</td>\n",
       "      <td>D0805720</td>\n",
       "      <td>2016-11-04</td>\n",
       "      <td>2017-12-26</td>\n",
       "      <td>Snack product</td>\n",
       "      <td>1</td>\n",
       "      <td>3</td>\n",
       "      <td>7</td>\n",
       "    </tr>\n",
       "    <tr>\n",
       "      <th>1</th>\n",
       "      <td>29583636</td>\n",
       "      <td>design</td>\n",
       "      <td>US</td>\n",
       "      <td>D0805721</td>\n",
       "      <td>2016-11-08</td>\n",
       "      <td>2017-12-26</td>\n",
       "      <td>Snack product</td>\n",
       "      <td>1</td>\n",
       "      <td>3</td>\n",
       "      <td>7</td>\n",
       "    </tr>\n",
       "    <tr>\n",
       "      <th>2</th>\n",
       "      <td>29583653</td>\n",
       "      <td>design</td>\n",
       "      <td>US</td>\n",
       "      <td>D0805722</td>\n",
       "      <td>2016-11-08</td>\n",
       "      <td>2017-12-26</td>\n",
       "      <td>Snack product</td>\n",
       "      <td>1</td>\n",
       "      <td>3</td>\n",
       "      <td>7</td>\n",
       "    </tr>\n",
       "    <tr>\n",
       "      <th>3</th>\n",
       "      <td>29583659</td>\n",
       "      <td>design</td>\n",
       "      <td>US</td>\n",
       "      <td>D0805723</td>\n",
       "      <td>2016-11-08</td>\n",
       "      <td>2017-12-26</td>\n",
       "      <td>Snack product</td>\n",
       "      <td>1</td>\n",
       "      <td>3</td>\n",
       "      <td>7</td>\n",
       "    </tr>\n",
       "    <tr>\n",
       "      <th>4</th>\n",
       "      <td>29583664</td>\n",
       "      <td>design</td>\n",
       "      <td>US</td>\n",
       "      <td>D0805724</td>\n",
       "      <td>2016-11-08</td>\n",
       "      <td>2017-12-26</td>\n",
       "      <td>Snack product</td>\n",
       "      <td>1</td>\n",
       "      <td>3</td>\n",
       "      <td>7</td>\n",
       "    </tr>\n",
       "  </tbody>\n",
       "</table>\n",
       "</div>"
      ],
      "text/plain": [
       "  application_number application_type country doc-number filing_date  \\\n",
       "0           29583371           design      US   D0805720  2016-11-04   \n",
       "1           29583636           design      US   D0805721  2016-11-08   \n",
       "2           29583653           design      US   D0805722  2016-11-08   \n",
       "3           29583659           design      US   D0805723  2016-11-08   \n",
       "4           29583664           design      US   D0805724  2016-11-08   \n",
       "\n",
       "  grant_date invention-title number-of-claims number-of-drawing-sheets  \\\n",
       "0 2017-12-26   Snack product                1                        3   \n",
       "1 2017-12-26   Snack product                1                        3   \n",
       "2 2017-12-26   Snack product                1                        3   \n",
       "3 2017-12-26   Snack product                1                        3   \n",
       "4 2017-12-26   Snack product                1                        3   \n",
       "\n",
       "  number-of-figures  \n",
       "0                 7  \n",
       "1                 7  \n",
       "2                 7  \n",
       "3                 7  \n",
       "4                 7  "
      ]
     },
     "execution_count": 11,
     "metadata": {},
     "output_type": "execute_result"
    }
   ],
   "source": [
    "patent_df.head()"
   ]
  },
  {
   "cell_type": "code",
   "execution_count": null,
   "metadata": {
    "collapsed": true
   },
   "outputs": [],
   "source": []
  }
 ],
 "metadata": {
  "kernelspec": {
   "display_name": "Python 3",
   "language": "python",
   "name": "python3"
  },
  "language_info": {
   "codemirror_mode": {
    "name": "ipython",
    "version": 3
   },
   "file_extension": ".py",
   "mimetype": "text/x-python",
   "name": "python",
   "nbconvert_exporter": "python",
   "pygments_lexer": "ipython3",
   "version": "3.6.3"
  }
 },
 "nbformat": 4,
 "nbformat_minor": 2
}
