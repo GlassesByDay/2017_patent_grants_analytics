{
 "cells": [
  {
   "cell_type": "code",
   "execution_count": 1,
   "metadata": {},
   "outputs": [
    {
     "name": "stderr",
     "output_type": "stream",
     "text": [
      "/Users/jamesclare/anaconda3/lib/python3.6/site-packages/statsmodels/compat/pandas.py:56: FutureWarning: The pandas.core.datetools module is deprecated and will be removed in a future version. Please use the pandas.tseries module instead.\n",
      "  from pandas.core import datetools\n"
     ]
    }
   ],
   "source": [
    "# imports\n",
    "import pandas as pd\n",
    "import statsmodels.api as sm\n",
    "from statsmodels.formula.api import ols"
   ]
  },
  {
   "cell_type": "code",
   "execution_count": 2,
   "metadata": {
    "collapsed": true
   },
   "outputs": [],
   "source": [
    "# load data\n",
    "all_patents_df = pd.read_csv('../intermediate_csv_files/clean_raw_data.csv', parse_dates=['filing_date','grant_date'])\n",
    "\n",
    "# delete extra \"Unnamed\" column\n",
    "del all_patents_df['Unnamed: 0']\n",
    "\n",
    "# create new column 'prosecution_period' as difference between grant date and filing date\n",
    "all_patents_df['prosecution_period'] = all_patents_df.grant_date - all_patents_df.filing_date\n",
    "\n",
    "# convert timedelta to integer number of days\n",
    "all_patents_df.prosecution_period = all_patents_df.prosecution_period.apply(lambda x: x.days)"
   ]
  },
  {
   "cell_type": "markdown",
   "metadata": {},
   "source": [
    "**Focusing on Utility Patents**\n",
    "\n",
    "For the purposes of fitting a linear regression model to our data, we first limit the data to utility patents.  This is because, in the patent industry, the other types of patents (e.g., design, plant) typically have a single claim and will therefore not be useful for regressions to predict prosecution time.  We rely on utility patents which have a greater degree of variation in the number of claims and figures from one patent to the next."
   ]
  },
  {
   "cell_type": "code",
   "execution_count": 3,
   "metadata": {
    "collapsed": true
   },
   "outputs": [],
   "source": [
    "# focus only on utility patents\n",
    "utility_patents_df = all_patents_df[all_patents_df.application_type=='utility']\n",
    "\n",
    "# rename 'number-of-claims' using underscores\n",
    "utility_patents_df = utility_patents_df.rename(columns={'number-of-figures':'number_of_figures'})"
   ]
  },
  {
   "cell_type": "code",
   "execution_count": 4,
   "metadata": {},
   "outputs": [
    {
     "data": {
      "text/html": [
       "<div>\n",
       "<style>\n",
       "    .dataframe thead tr:only-child th {\n",
       "        text-align: right;\n",
       "    }\n",
       "\n",
       "    .dataframe thead th {\n",
       "        text-align: left;\n",
       "    }\n",
       "\n",
       "    .dataframe tbody tr th {\n",
       "        vertical-align: top;\n",
       "    }\n",
       "</style>\n",
       "<table border=\"1\" class=\"dataframe\">\n",
       "  <thead>\n",
       "    <tr style=\"text-align: right;\">\n",
       "      <th></th>\n",
       "      <th>application_number</th>\n",
       "      <th>application_type</th>\n",
       "      <th>city</th>\n",
       "      <th>country</th>\n",
       "      <th>filing_date</th>\n",
       "      <th>grant_date</th>\n",
       "      <th>invention_title</th>\n",
       "      <th>number-of-drawing-sheets</th>\n",
       "      <th>number_of_figures</th>\n",
       "      <th>number_of_claims</th>\n",
       "      <th>patent_number</th>\n",
       "      <th>state</th>\n",
       "      <th>prosecution_period</th>\n",
       "    </tr>\n",
       "  </thead>\n",
       "  <tbody>\n",
       "    <tr>\n",
       "      <th>649</th>\n",
       "      <td>14840940</td>\n",
       "      <td>utility</td>\n",
       "      <td>New Holland</td>\n",
       "      <td>US</td>\n",
       "      <td>2015-08-31</td>\n",
       "      <td>2017-10-31</td>\n",
       "      <td>Vertical tillage scraper</td>\n",
       "      <td>8</td>\n",
       "      <td>8</td>\n",
       "      <td>10</td>\n",
       "      <td>09801321</td>\n",
       "      <td>PA</td>\n",
       "      <td>792</td>\n",
       "    </tr>\n",
       "    <tr>\n",
       "      <th>650</th>\n",
       "      <td>15033989</td>\n",
       "      <td>utility</td>\n",
       "      <td>Tremont</td>\n",
       "      <td>US</td>\n",
       "      <td>2014-11-08</td>\n",
       "      <td>2017-10-31</td>\n",
       "      <td>Implement weight management systems, methods, ...</td>\n",
       "      <td>13</td>\n",
       "      <td>16</td>\n",
       "      <td>19</td>\n",
       "      <td>09801322</td>\n",
       "      <td>IL</td>\n",
       "      <td>1088</td>\n",
       "    </tr>\n",
       "    <tr>\n",
       "      <th>651</th>\n",
       "      <td>14537206</td>\n",
       "      <td>utility</td>\n",
       "      <td>New Holland</td>\n",
       "      <td>US</td>\n",
       "      <td>2014-11-10</td>\n",
       "      <td>2017-10-31</td>\n",
       "      <td>Rocker link lift system</td>\n",
       "      <td>4</td>\n",
       "      <td>4</td>\n",
       "      <td>12</td>\n",
       "      <td>09801323</td>\n",
       "      <td>PA</td>\n",
       "      <td>1086</td>\n",
       "    </tr>\n",
       "    <tr>\n",
       "      <th>652</th>\n",
       "      <td>14619305</td>\n",
       "      <td>utility</td>\n",
       "      <td>Horace</td>\n",
       "      <td>US</td>\n",
       "      <td>2015-02-11</td>\n",
       "      <td>2017-10-31</td>\n",
       "      <td>Bi-fold tool bar linkage</td>\n",
       "      <td>4</td>\n",
       "      <td>10</td>\n",
       "      <td>17</td>\n",
       "      <td>09801324</td>\n",
       "      <td>ND</td>\n",
       "      <td>993</td>\n",
       "    </tr>\n",
       "    <tr>\n",
       "      <th>653</th>\n",
       "      <td>14411774</td>\n",
       "      <td>utility</td>\n",
       "      <td>London</td>\n",
       "      <td>CA</td>\n",
       "      <td>2013-06-27</td>\n",
       "      <td>2017-10-31</td>\n",
       "      <td>Hub cover for agriculture purposes</td>\n",
       "      <td>6</td>\n",
       "      <td>6</td>\n",
       "      <td>9</td>\n",
       "      <td>09801325</td>\n",
       "      <td>outside US</td>\n",
       "      <td>1587</td>\n",
       "    </tr>\n",
       "  </tbody>\n",
       "</table>\n",
       "</div>"
      ],
      "text/plain": [
       "     application_number application_type         city country filing_date  \\\n",
       "649            14840940          utility  New Holland      US  2015-08-31   \n",
       "650            15033989          utility      Tremont      US  2014-11-08   \n",
       "651            14537206          utility  New Holland      US  2014-11-10   \n",
       "652            14619305          utility       Horace      US  2015-02-11   \n",
       "653            14411774          utility       London      CA  2013-06-27   \n",
       "\n",
       "    grant_date                                    invention_title  \\\n",
       "649 2017-10-31                           Vertical tillage scraper   \n",
       "650 2017-10-31  Implement weight management systems, methods, ...   \n",
       "651 2017-10-31                            Rocker link lift system   \n",
       "652 2017-10-31                           Bi-fold tool bar linkage   \n",
       "653 2017-10-31                 Hub cover for agriculture purposes   \n",
       "\n",
       "     number-of-drawing-sheets  number_of_figures  number_of_claims  \\\n",
       "649                         8                  8                10   \n",
       "650                        13                 16                19   \n",
       "651                         4                  4                12   \n",
       "652                         4                 10                17   \n",
       "653                         6                  6                 9   \n",
       "\n",
       "    patent_number       state  prosecution_period  \n",
       "649      09801321          PA                 792  \n",
       "650      09801322          IL                1088  \n",
       "651      09801323          PA                1086  \n",
       "652      09801324          ND                 993  \n",
       "653      09801325  outside US                1587  "
      ]
     },
     "execution_count": 4,
     "metadata": {},
     "output_type": "execute_result"
    }
   ],
   "source": [
    "utility_patents_df.head()"
   ]
  },
  {
   "cell_type": "code",
   "execution_count": 5,
   "metadata": {
    "collapsed": true
   },
   "outputs": [],
   "source": [
    "full_model = ols('prosecution_period ~ number_of_figures + number_of_claims', utility_patents_df).fit()"
   ]
  },
  {
   "cell_type": "code",
   "execution_count": 6,
   "metadata": {},
   "outputs": [
    {
     "name": "stdout",
     "output_type": "stream",
     "text": [
      "                            OLS Regression Results                            \n",
      "==============================================================================\n",
      "Dep. Variable:     prosecution_period   R-squared:                       0.003\n",
      "Model:                            OLS   Adj. R-squared:                  0.003\n",
      "Method:                 Least Squares   F-statistic:                     462.5\n",
      "Date:                Sun, 20 May 2018   Prob (F-statistic):          2.71e-201\n",
      "Time:                        08:42:42   Log-Likelihood:            -2.5137e+06\n",
      "No. Observations:              319983   AIC:                         5.027e+06\n",
      "Df Residuals:                  319980   BIC:                         5.027e+06\n",
      "Df Model:                           2                                         \n",
      "Covariance Type:            nonrobust                                         \n",
      "=====================================================================================\n",
      "                        coef    std err          t      P>|t|      [0.025      0.975]\n",
      "-------------------------------------------------------------------------------------\n",
      "Intercept          1030.6445      2.446    421.399      0.000    1025.851    1035.438\n",
      "number_of_figures    -0.9120      0.043    -21.405      0.000      -0.996      -0.829\n",
      "number_of_claims      3.0519      0.132     23.100      0.000       2.793       3.311\n",
      "==============================================================================\n",
      "Omnibus:                   112083.008   Durbin-Watson:                   1.711\n",
      "Prob(Omnibus):                  0.000   Jarque-Bera (JB):           525063.687\n",
      "Skew:                           1.654   Prob(JB):                         0.00\n",
      "Kurtosis:                       8.332   Cond. No.                         69.3\n",
      "==============================================================================\n",
      "\n",
      "Warnings:\n",
      "[1] Standard Errors assume that the covariance matrix of the errors is correctly specified.\n"
     ]
    }
   ],
   "source": [
    "print(full_model.summary())"
   ]
  },
  {
   "cell_type": "code",
   "execution_count": 7,
   "metadata": {},
   "outputs": [
    {
     "name": "stdout",
     "output_type": "stream",
     "text": [
      "                            OLS Regression Results                            \n",
      "==============================================================================\n",
      "Dep. Variable:     prosecution_period   R-squared:                       0.001\n",
      "Model:                            OLS   Adj. R-squared:                  0.001\n",
      "Method:                 Least Squares   F-statistic:                     390.7\n",
      "Date:                Sun, 20 May 2018   Prob (F-statistic):           6.51e-87\n",
      "Time:                        08:42:42   Log-Likelihood:            -2.5140e+06\n",
      "No. Observations:              319983   AIC:                         5.028e+06\n",
      "Df Residuals:                  319981   BIC:                         5.028e+06\n",
      "Df Model:                           1                                         \n",
      "Covariance Type:            nonrobust                                         \n",
      "=====================================================================================\n",
      "                        coef    std err          t      P>|t|      [0.025      0.975]\n",
      "-------------------------------------------------------------------------------------\n",
      "Intercept          1079.0631      1.261    855.464      0.000    1076.591    1081.535\n",
      "number_of_figures    -0.8407      0.043    -19.767      0.000      -0.924      -0.757\n",
      "==============================================================================\n",
      "Omnibus:                   112908.462   Durbin-Watson:                   1.711\n",
      "Prob(Omnibus):                  0.000   Jarque-Bera (JB):           533828.372\n",
      "Skew:                           1.665   Prob(JB):                         0.00\n",
      "Kurtosis:                       8.381   Cond. No.                         33.9\n",
      "==============================================================================\n",
      "\n",
      "Warnings:\n",
      "[1] Standard Errors assume that the covariance matrix of the errors is correctly specified.\n"
     ]
    }
   ],
   "source": [
    "nof_model = ols('prosecution_period ~ number_of_figures', utility_patents_df).fit()\n",
    "print(nof_model.summary())"
   ]
  },
  {
   "cell_type": "code",
   "execution_count": 8,
   "metadata": {},
   "outputs": [
    {
     "name": "stdout",
     "output_type": "stream",
     "text": [
      "                            OLS Regression Results                            \n",
      "==============================================================================\n",
      "Dep. Variable:     prosecution_period   R-squared:                       0.001\n",
      "Model:                            OLS   Adj. R-squared:                  0.001\n",
      "Method:                 Least Squares   F-statistic:                     466.1\n",
      "Date:                Sun, 20 May 2018   Prob (F-statistic):          2.65e-103\n",
      "Time:                        08:42:42   Log-Likelihood:            -2.5140e+06\n",
      "No. Observations:              319983   AIC:                         5.028e+06\n",
      "Df Residuals:                  319981   BIC:                         5.028e+06\n",
      "Df Model:                           1                                         \n",
      "Covariance Type:            nonrobust                                         \n",
      "====================================================================================\n",
      "                       coef    std err          t      P>|t|      [0.025      0.975]\n",
      "------------------------------------------------------------------------------------\n",
      "Intercept         1020.9149      2.405    424.519      0.000    1016.201    1025.628\n",
      "number_of_claims     2.8469      0.132     21.590      0.000       2.588       3.105\n",
      "==============================================================================\n",
      "Omnibus:                   111386.968   Durbin-Watson:                   1.710\n",
      "Prob(Omnibus):                  0.000   Jarque-Bera (JB):           515479.744\n",
      "Skew:                           1.648   Prob(JB):                         0.00\n",
      "Kurtosis:                       8.273   Cond. No.                         39.8\n",
      "==============================================================================\n",
      "\n",
      "Warnings:\n",
      "[1] Standard Errors assume that the covariance matrix of the errors is correctly specified.\n"
     ]
    }
   ],
   "source": [
    "noc_model = ols('prosecution_period ~ number_of_claims', utility_patents_df).fit()\n",
    "print(noc_model.summary())"
   ]
  },
  {
   "cell_type": "code",
   "execution_count": 9,
   "metadata": {
    "collapsed": true
   },
   "outputs": [],
   "source": [
    "five_yr_df = utility_patents_df[utility_patents_df.prosecution_period < 1825]"
   ]
  },
  {
   "cell_type": "code",
   "execution_count": 10,
   "metadata": {
    "collapsed": true
   },
   "outputs": [],
   "source": [
    "full_model_5yr = ols('prosecution_period ~ number_of_figures + number_of_claims', five_yr_df).fit()"
   ]
  },
  {
   "cell_type": "code",
   "execution_count": 11,
   "metadata": {},
   "outputs": [
    {
     "name": "stdout",
     "output_type": "stream",
     "text": [
      "                            OLS Regression Results                            \n",
      "==============================================================================\n",
      "Dep. Variable:     prosecution_period   R-squared:                       0.002\n",
      "Model:                            OLS   Adj. R-squared:                  0.002\n",
      "Method:                 Least Squares   F-statistic:                     221.8\n",
      "Date:                Sun, 20 May 2018   Prob (F-statistic):           5.71e-97\n",
      "Time:                        08:42:42   Log-Likelihood:            -2.1381e+06\n",
      "No. Observations:              288000   AIC:                         4.276e+06\n",
      "Df Residuals:                  287997   BIC:                         4.276e+06\n",
      "Df Model:                           2                                         \n",
      "Covariance Type:            nonrobust                                         \n",
      "=====================================================================================\n",
      "                        coef    std err          t      P>|t|      [0.025      0.975]\n",
      "-------------------------------------------------------------------------------------\n",
      "Intercept           921.9939      1.700    542.341      0.000     918.662     925.326\n",
      "number_of_figures    -0.5968      0.028    -21.041      0.000      -0.652      -0.541\n",
      "number_of_claims      0.2243      0.093      2.414      0.016       0.042       0.406\n",
      "==============================================================================\n",
      "Omnibus:                    21281.761   Durbin-Watson:                   1.690\n",
      "Prob(Omnibus):                  0.000   Jarque-Bera (JB):             9744.665\n",
      "Skew:                           0.259   Prob(JB):                         0.00\n",
      "Kurtosis:                       2.263   Cond. No.                         71.7\n",
      "==============================================================================\n",
      "\n",
      "Warnings:\n",
      "[1] Standard Errors assume that the covariance matrix of the errors is correctly specified.\n"
     ]
    }
   ],
   "source": [
    "print(full_model_5yr.summary())"
   ]
  },
  {
   "cell_type": "code",
   "execution_count": 12,
   "metadata": {},
   "outputs": [
    {
     "name": "stdout",
     "output_type": "stream",
     "text": [
      "                            OLS Regression Results                            \n",
      "==============================================================================\n",
      "Dep. Variable:     prosecution_period   R-squared:                       0.000\n",
      "Model:                            OLS   Adj. R-squared:                 -0.000\n",
      "Method:                 Least Squares   F-statistic:                    0.8503\n",
      "Date:                Sun, 20 May 2018   Prob (F-statistic):              0.356\n",
      "Time:                        08:42:43   Log-Likelihood:            -2.1384e+06\n",
      "No. Observations:              288000   AIC:                         4.277e+06\n",
      "Df Residuals:                  287998   BIC:                         4.277e+06\n",
      "Df Model:                           1                                         \n",
      "Covariance Type:            nonrobust                                         \n",
      "====================================================================================\n",
      "                       coef    std err          t      P>|t|      [0.025      0.975]\n",
      "------------------------------------------------------------------------------------\n",
      "Intercept          915.6074      1.674    546.961      0.000     912.326     918.888\n",
      "number_of_claims     0.0855      0.093      0.922      0.356      -0.096       0.267\n",
      "==============================================================================\n",
      "Omnibus:                    27469.108   Durbin-Watson:                   1.688\n",
      "Prob(Omnibus):                  0.000   Jarque-Bera (JB):            10716.011\n",
      "Skew:                           0.251   Prob(JB):                         0.00\n",
      "Kurtosis:                       2.200   Cond. No.                         40.1\n",
      "==============================================================================\n",
      "\n",
      "Warnings:\n",
      "[1] Standard Errors assume that the covariance matrix of the errors is correctly specified.\n"
     ]
    }
   ],
   "source": [
    "noc_model_5yr = ols('prosecution_period ~ number_of_claims', five_yr_df).fit()\n",
    "print(noc_model_5yr.summary())"
   ]
  },
  {
   "cell_type": "code",
   "execution_count": 13,
   "metadata": {},
   "outputs": [
    {
     "name": "stdout",
     "output_type": "stream",
     "text": [
      "                            OLS Regression Results                            \n",
      "==============================================================================\n",
      "Dep. Variable:     prosecution_period   R-squared:                       0.002\n",
      "Model:                            OLS   Adj. R-squared:                  0.002\n",
      "Method:                 Least Squares   F-statistic:                     437.7\n",
      "Date:                Sun, 20 May 2018   Prob (F-statistic):           4.01e-97\n",
      "Time:                        08:42:43   Log-Likelihood:            -2.1381e+06\n",
      "No. Observations:              288000   AIC:                         4.276e+06\n",
      "Df Residuals:                  287998   BIC:                         4.276e+06\n",
      "Df Model:                           1                                         \n",
      "Covariance Type:            nonrobust                                         \n",
      "=====================================================================================\n",
      "                        coef    std err          t      P>|t|      [0.025      0.975]\n",
      "-------------------------------------------------------------------------------------\n",
      "Intercept           925.5359      0.859   1077.359      0.000     923.852     927.220\n",
      "number_of_figures    -0.5919      0.028    -20.922      0.000      -0.647      -0.536\n",
      "==============================================================================\n",
      "Omnibus:                    21458.164   Durbin-Watson:                   1.690\n",
      "Prob(Omnibus):                  0.000   Jarque-Bera (JB):             9774.939\n",
      "Skew:                           0.259   Prob(JB):                         0.00\n",
      "Kurtosis:                       2.261   Cond. No.                         34.5\n",
      "==============================================================================\n",
      "\n",
      "Warnings:\n",
      "[1] Standard Errors assume that the covariance matrix of the errors is correctly specified.\n"
     ]
    }
   ],
   "source": [
    "nof_model_5yr = ols('prosecution_period ~ number_of_figures', five_yr_df).fit()\n",
    "print(nof_model_5yr.summary())"
   ]
  },
  {
   "cell_type": "markdown",
   "metadata": {
    "collapsed": true
   },
   "source": [
    "**Conclusion:** based on these summaries, the linear regression model is not explaining a significant amount of the variance observed in the data (i.e., less than 1%).  We do see that the number of figures, when used as the sole predictor variable, explains more of the variance than the number of claims, which suggests that the number of figures in an application has more to do with the prosecution time.  Also of note, the correlation between the number of figures and the prosecution time is negative, which implies that increasing the number of figures in an application may help decrease prosecution time, although the correlation is week.  "
   ]
  },
  {
   "cell_type": "markdown",
   "metadata": {},
   "source": [
    "**IMPROVING THE MODEL: REVIEW OF INFLUENCE AND LEVERAGE POINTS**"
   ]
  },
  {
   "cell_type": "code",
   "execution_count": 14,
   "metadata": {},
   "outputs": [
    {
     "data": {
      "image/png": "[encoded data removed]",
      "text/plain": [
       "<matplotlib.figure.Figure at 0x1c19320470>"
      ]
     },
     "metadata": {},
     "output_type": "display_data"
    }
   ],
   "source": [
    "import matplotlib.pyplot as plt\n",
    "import numpy as np\n",
    "\n",
    "# reviewing the quantile plot of residuals\n",
    "resid = full_model.resid\n",
    "mean = np.mean(resid)\n",
    "sd = np.std(resid)\n",
    "z = (resid - mean) / sd\n",
    "\n",
    "sm.qqplot(z, line='45')\n",
    "plt.title('Quantile Plot of Residuals')\n",
    "plt.show()"
   ]
  },
  {
   "cell_type": "code",
   "execution_count": 15,
   "metadata": {},
   "outputs": [
    {
     "data": {
      "image/png": "[encoded data removed]",
      "text/plain": [
       "<matplotlib.figure.Figure at 0x1c1a4f02b0>"
      ]
     },
     "metadata": {},
     "output_type": "display_data"
    }
   ],
   "source": [
    "plt.hist(z, color='g')\n",
    "plt.show()"
   ]
  },
  {
   "cell_type": "code",
   "execution_count": 16,
   "metadata": {},
   "outputs": [
    {
     "data": {
      "image/png": "[encoded data removed]",
      "text/plain": [
       "<matplotlib.figure.Figure at 0x113d675c0>"
      ]
     },
     "metadata": {},
     "output_type": "display_data"
    }
   ],
   "source": [
    "# scatter plot: fitted vs. residuals\n",
    "plt.scatter(full_model.fittedvalues, full_model.resid)\n",
    "plt.xlabel('Fitted Values')\n",
    "plt.ylabel('Residuals')\n",
    "plt.axhline(c='red')\n",
    "plt.title('Fitted Values vs. Residuals')\n",
    "plt.show()"
   ]
  },
  {
   "cell_type": "code",
   "execution_count": null,
   "metadata": {},
   "outputs": [],
   "source": []
  },
  {
   "cell_type": "code",
   "execution_count": null,
   "metadata": {
    "collapsed": true
   },
   "outputs": [],
   "source": []
  }
 ],
 "metadata": {
  "kernelspec": {
   "display_name": "Python 3",
   "language": "python",
   "name": "python3"
  },
  "language_info": {
   "codemirror_mode": {
    "name": "ipython",
    "version": 3
   },
   "file_extension": ".py",
   "mimetype": "text/x-python",
   "name": "python",
   "nbconvert_exporter": "python",
   "pygments_lexer": "ipython3",
   "version": "3.6.3"
  }
 },
 "nbformat": 4,
 "nbformat_minor": 2
}
