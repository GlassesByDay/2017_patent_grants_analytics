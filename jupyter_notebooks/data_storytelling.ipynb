{
 "cells": [
  {
   "cell_type": "markdown",
   "metadata": {},
   "source": [
    "# Data Storytelling"
   ]
  },
  {
   "cell_type": "markdown",
   "metadata": {},
   "source": [
    "## Imports "
   ]
  },
  {
   "cell_type": "code",
   "execution_count": 1,
   "metadata": {
    "collapsed": true
   },
   "outputs": [],
   "source": [
    "import pandas as pd\n",
    "import matplotlib.pyplot as plt\n",
    "import seaborn as sns"
   ]
  },
  {
   "cell_type": "markdown",
   "metadata": {},
   "source": [
    "## Read in intermediate CSV"
   ]
  },
  {
   "cell_type": "code",
   "execution_count": 2,
   "metadata": {
    "collapsed": true
   },
   "outputs": [],
   "source": [
    "all_patents_df = pd.read_csv('../intermediate_csv_files/clean_raw_data.csv', parse_dates=['filing_date','grant_date'])"
   ]
  },
  {
   "cell_type": "code",
   "execution_count": 3,
   "metadata": {},
   "outputs": [
    {
     "name": "stdout",
     "output_type": "stream",
     "text": [
      "<class 'pandas.core.frame.DataFrame'>\n",
      "RangeIndex: 352567 entries, 0 to 352566\n",
      "Data columns (total 10 columns):\n",
      "Unnamed: 0                  352567 non-null int64\n",
      "application_number          352567 non-null int64\n",
      "application_type            352567 non-null object\n",
      "filing_date                 352567 non-null datetime64[ns]\n",
      "grant_date                  352567 non-null datetime64[ns]\n",
      "invention_title             352567 non-null object\n",
      "number-of-drawing-sheets    352567 non-null int64\n",
      "number-of-figures           352567 non-null int64\n",
      "number_of_claims            352567 non-null int64\n",
      "patent_number               352567 non-null object\n",
      "dtypes: datetime64[ns](2), int64(5), object(3)\n",
      "memory usage: 26.9+ MB\n"
     ]
    }
   ],
   "source": [
    "all_patents_df.info()"
   ]
  },
  {
   "cell_type": "markdown",
   "metadata": {},
   "source": [
    "## Data Type Casting"
   ]
  },
  {
   "cell_type": "code",
   "execution_count": 4,
   "metadata": {
    "collapsed": true
   },
   "outputs": [],
   "source": [
    "all_patents_df[['number-of-drawing_sheets','number-of-figures','number_of_claims']] = all_patents_df[['number-of-drawing-sheets','number-of-figures','number_of_claims']].astype(int) "
   ]
  },
  {
   "cell_type": "code",
   "execution_count": 5,
   "metadata": {},
   "outputs": [
    {
     "name": "stdout",
     "output_type": "stream",
     "text": [
      "<class 'pandas.core.frame.DataFrame'>\n",
      "RangeIndex: 352567 entries, 0 to 352566\n",
      "Data columns (total 11 columns):\n",
      "Unnamed: 0                  352567 non-null int64\n",
      "application_number          352567 non-null int64\n",
      "application_type            352567 non-null object\n",
      "filing_date                 352567 non-null datetime64[ns]\n",
      "grant_date                  352567 non-null datetime64[ns]\n",
      "invention_title             352567 non-null object\n",
      "number-of-drawing-sheets    352567 non-null int64\n",
      "number-of-figures           352567 non-null int64\n",
      "number_of_claims            352567 non-null int64\n",
      "patent_number               352567 non-null object\n",
      "number-of-drawing_sheets    352567 non-null int64\n",
      "dtypes: datetime64[ns](2), int64(6), object(3)\n",
      "memory usage: 29.6+ MB\n"
     ]
    }
   ],
   "source": [
    "all_patents_df.info()"
   ]
  },
  {
   "cell_type": "code",
   "execution_count": 6,
   "metadata": {},
   "outputs": [
    {
     "data": {
      "text/plain": [
       "count    352567.000000\n",
       "mean         14.817195\n",
       "std           9.122482\n",
       "min           1.000000\n",
       "25%           9.000000\n",
       "50%          16.000000\n",
       "75%          20.000000\n",
       "max         381.000000\n",
       "Name: number_of_claims, dtype: float64"
      ]
     },
     "execution_count": 6,
     "metadata": {},
     "output_type": "execute_result"
    }
   ],
   "source": [
    "all_patents_df.number_of_claims.describe()"
   ]
  },
  {
   "cell_type": "code",
   "execution_count": 7,
   "metadata": {},
   "outputs": [
    {
     "name": "stdout",
     "output_type": "stream",
     "text": [
      "<class 'pandas.core.frame.DataFrame'>\n",
      "Int64Index: 319983 entries, 649 to 352566\n",
      "Data columns (total 11 columns):\n",
      "Unnamed: 0                  319983 non-null int64\n",
      "application_number          319983 non-null int64\n",
      "application_type            319983 non-null object\n",
      "filing_date                 319983 non-null datetime64[ns]\n",
      "grant_date                  319983 non-null datetime64[ns]\n",
      "invention_title             319983 non-null object\n",
      "number-of-drawing-sheets    319983 non-null int64\n",
      "number-of-figures           319983 non-null int64\n",
      "number_of_claims            319983 non-null int64\n",
      "patent_number               319983 non-null object\n",
      "number-of-drawing_sheets    319983 non-null int64\n",
      "dtypes: datetime64[ns](2), int64(6), object(3)\n",
      "memory usage: 29.3+ MB\n"
     ]
    }
   ],
   "source": [
    "utility_patents_df = all_patents_df[all_patents_df.application_type == 'utility']\n",
    "\n",
    "utility_patents_df.info()"
   ]
  },
  {
   "cell_type": "code",
   "execution_count": 8,
   "metadata": {},
   "outputs": [
    {
     "data": {
      "text/plain": [
       "count    319983.000000\n",
       "mean         16.199423\n",
       "std           8.377739\n",
       "min           1.000000\n",
       "25%          11.000000\n",
       "50%          17.000000\n",
       "75%          20.000000\n",
       "max         381.000000\n",
       "Name: number_of_claims, dtype: float64"
      ]
     },
     "execution_count": 8,
     "metadata": {},
     "output_type": "execute_result"
    }
   ],
   "source": [
    "utility_patents_df.number_of_claims.describe()"
   ]
  },
  {
   "cell_type": "markdown",
   "metadata": {},
   "source": [
    "## Dealing with Number of Claims Outliers\n",
    "\n",
    "From the summary statistics on number of claims across the entire set, we see that the median number of claims is 17, while the maximum is 381.  This indicates that the distribution will be skewed to the right.  When reviewing the data, this observation can be seen by looking at the `.value_counts()` for each distinct value in the `number_of_claims` column. From industry experience, one would understand that most utility patent applications have less than 50 claims.  So, in order to create a better distribution, we will narrow down this data set by removing those patents with a number of claims that is greater than 3 standard deviations from the median value."
   ]
  },
  {
   "cell_type": "code",
   "execution_count": 9,
   "metadata": {},
   "outputs": [],
   "source": [
    "claims_std_dev = utility_patents_df.number_of_claims.std()\n",
    "claims_median = utility_patents_df.number_of_claims.median()"
   ]
  },
  {
   "cell_type": "code",
   "execution_count": 10,
   "metadata": {
    "collapsed": true
   },
   "outputs": [],
   "source": [
    "utility_patents_subset_df = utility_patents_df[utility_patents_df.number_of_claims <= (claims_median + 3*claims_std_dev)].copy()"
   ]
  },
  {
   "cell_type": "code",
   "execution_count": 11,
   "metadata": {},
   "outputs": [
    {
     "name": "stdout",
     "output_type": "stream",
     "text": [
      "<class 'pandas.core.frame.DataFrame'>\n",
      "Int64Index: 316685 entries, 649 to 352566\n",
      "Data columns (total 11 columns):\n",
      "Unnamed: 0                  316685 non-null int64\n",
      "application_number          316685 non-null int64\n",
      "application_type            316685 non-null object\n",
      "filing_date                 316685 non-null datetime64[ns]\n",
      "grant_date                  316685 non-null datetime64[ns]\n",
      "invention_title             316685 non-null object\n",
      "number-of-drawing-sheets    316685 non-null int64\n",
      "number-of-figures           316685 non-null int64\n",
      "number_of_claims            316685 non-null int64\n",
      "patent_number               316685 non-null object\n",
      "number-of-drawing_sheets    316685 non-null int64\n",
      "dtypes: datetime64[ns](2), int64(6), object(3)\n",
      "memory usage: 29.0+ MB\n"
     ]
    }
   ],
   "source": [
    "utility_patents_subset_df.info()"
   ]
  },
  {
   "cell_type": "code",
   "execution_count": 34,
   "metadata": {},
   "outputs": [
    {
     "data": {
      "image/png": "[encoded data removed]",
      "text/plain": [
       "<matplotlib.figure.Figure at 0x1170d5908>"
      ]
     },
     "metadata": {},
     "output_type": "display_data"
    }
   ],
   "source": [
    "sns.set(color_codes=True)\n",
    "\n",
    "sns.distplot(utility_patents_subset_df.number_of_claims, bins=40, kde=False)\n",
    "\n",
    "plt.show()"
   ]
  },
  {
   "cell_type": "code",
   "execution_count": 13,
   "metadata": {},
   "outputs": [
    {
     "data": {
      "image/png": "[encoded data removed]",
      "text/plain": [
       "<matplotlib.figure.Figure at 0x116a689e8>"
      ]
     },
     "metadata": {},
     "output_type": "display_data"
    }
   ],
   "source": [
    "sns.kdeplot(utility_patents_subset_df.number_of_claims, shade=True)\n",
    "\n",
    "plt.show()"
   ]
  },
  {
   "cell_type": "markdown",
   "metadata": {},
   "source": [
    "# Calculating Prosecution Period\n",
    "\n",
    "The time period during which a patent application is being \"prosecuted\" begins with the filing date and ends with the grant date."
   ]
  },
  {
   "cell_type": "code",
   "execution_count": 24,
   "metadata": {},
   "outputs": [],
   "source": [
    "# create new column 'prosecution_period' as difference between grant date and filing date\n",
    "\n",
    "utility_patents_subset_df['prosecution_period'] = utility_patents_subset_df.grant_date - utility_patents_subset_df.filing_date"
   ]
  },
  {
   "cell_type": "code",
   "execution_count": 25,
   "metadata": {},
   "outputs": [
    {
     "data": {
      "text/html": [
       "<div>\n",
       "<style>\n",
       "    .dataframe thead tr:only-child th {\n",
       "        text-align: right;\n",
       "    }\n",
       "\n",
       "    .dataframe thead th {\n",
       "        text-align: left;\n",
       "    }\n",
       "\n",
       "    .dataframe tbody tr th {\n",
       "        vertical-align: top;\n",
       "    }\n",
       "</style>\n",
       "<table border=\"1\" class=\"dataframe\">\n",
       "  <thead>\n",
       "    <tr style=\"text-align: right;\">\n",
       "      <th></th>\n",
       "      <th>Unnamed: 0</th>\n",
       "      <th>application_number</th>\n",
       "      <th>application_type</th>\n",
       "      <th>filing_date</th>\n",
       "      <th>grant_date</th>\n",
       "      <th>invention_title</th>\n",
       "      <th>number-of-drawing-sheets</th>\n",
       "      <th>number-of-figures</th>\n",
       "      <th>number_of_claims</th>\n",
       "      <th>patent_number</th>\n",
       "      <th>number-of-drawing_sheets</th>\n",
       "      <th>prosecution_period</th>\n",
       "    </tr>\n",
       "  </thead>\n",
       "  <tbody>\n",
       "    <tr>\n",
       "      <th>649</th>\n",
       "      <td>649</td>\n",
       "      <td>14840940</td>\n",
       "      <td>utility</td>\n",
       "      <td>2015-08-31</td>\n",
       "      <td>2017-10-31</td>\n",
       "      <td>Vertical tillage scraper</td>\n",
       "      <td>8</td>\n",
       "      <td>8</td>\n",
       "      <td>10</td>\n",
       "      <td>09801321</td>\n",
       "      <td>8</td>\n",
       "      <td>792 days</td>\n",
       "    </tr>\n",
       "    <tr>\n",
       "      <th>650</th>\n",
       "      <td>650</td>\n",
       "      <td>15033989</td>\n",
       "      <td>utility</td>\n",
       "      <td>2014-11-08</td>\n",
       "      <td>2017-10-31</td>\n",
       "      <td>Implement weight management systems, methods, ...</td>\n",
       "      <td>13</td>\n",
       "      <td>16</td>\n",
       "      <td>19</td>\n",
       "      <td>09801322</td>\n",
       "      <td>13</td>\n",
       "      <td>1088 days</td>\n",
       "    </tr>\n",
       "    <tr>\n",
       "      <th>651</th>\n",
       "      <td>651</td>\n",
       "      <td>14537206</td>\n",
       "      <td>utility</td>\n",
       "      <td>2014-11-10</td>\n",
       "      <td>2017-10-31</td>\n",
       "      <td>Rocker link lift system</td>\n",
       "      <td>4</td>\n",
       "      <td>4</td>\n",
       "      <td>12</td>\n",
       "      <td>09801323</td>\n",
       "      <td>4</td>\n",
       "      <td>1086 days</td>\n",
       "    </tr>\n",
       "    <tr>\n",
       "      <th>652</th>\n",
       "      <td>652</td>\n",
       "      <td>14619305</td>\n",
       "      <td>utility</td>\n",
       "      <td>2015-02-11</td>\n",
       "      <td>2017-10-31</td>\n",
       "      <td>Bi-fold tool bar linkage</td>\n",
       "      <td>4</td>\n",
       "      <td>10</td>\n",
       "      <td>17</td>\n",
       "      <td>09801324</td>\n",
       "      <td>4</td>\n",
       "      <td>993 days</td>\n",
       "    </tr>\n",
       "    <tr>\n",
       "      <th>653</th>\n",
       "      <td>653</td>\n",
       "      <td>14411774</td>\n",
       "      <td>utility</td>\n",
       "      <td>2013-06-27</td>\n",
       "      <td>2017-10-31</td>\n",
       "      <td>Hub cover for agriculture purposes</td>\n",
       "      <td>6</td>\n",
       "      <td>6</td>\n",
       "      <td>9</td>\n",
       "      <td>09801325</td>\n",
       "      <td>6</td>\n",
       "      <td>1587 days</td>\n",
       "    </tr>\n",
       "  </tbody>\n",
       "</table>\n",
       "</div>"
      ],
      "text/plain": [
       "     Unnamed: 0  application_number application_type filing_date grant_date  \\\n",
       "649         649            14840940          utility  2015-08-31 2017-10-31   \n",
       "650         650            15033989          utility  2014-11-08 2017-10-31   \n",
       "651         651            14537206          utility  2014-11-10 2017-10-31   \n",
       "652         652            14619305          utility  2015-02-11 2017-10-31   \n",
       "653         653            14411774          utility  2013-06-27 2017-10-31   \n",
       "\n",
       "                                       invention_title  \\\n",
       "649                           Vertical tillage scraper   \n",
       "650  Implement weight management systems, methods, ...   \n",
       "651                            Rocker link lift system   \n",
       "652                           Bi-fold tool bar linkage   \n",
       "653                 Hub cover for agriculture purposes   \n",
       "\n",
       "     number-of-drawing-sheets  number-of-figures  number_of_claims  \\\n",
       "649                         8                  8                10   \n",
       "650                        13                 16                19   \n",
       "651                         4                  4                12   \n",
       "652                         4                 10                17   \n",
       "653                         6                  6                 9   \n",
       "\n",
       "    patent_number  number-of-drawing_sheets prosecution_period  \n",
       "649      09801321                         8           792 days  \n",
       "650      09801322                        13          1088 days  \n",
       "651      09801323                         4          1086 days  \n",
       "652      09801324                         4           993 days  \n",
       "653      09801325                         6          1587 days  "
      ]
     },
     "execution_count": 25,
     "metadata": {},
     "output_type": "execute_result"
    }
   ],
   "source": [
    "utility_patents_subset_df.head()"
   ]
  },
  {
   "cell_type": "code",
   "execution_count": 26,
   "metadata": {},
   "outputs": [
    {
     "name": "stdout",
     "output_type": "stream",
     "text": [
      "<class 'pandas.core.frame.DataFrame'>\n",
      "Int64Index: 316685 entries, 649 to 352566\n",
      "Data columns (total 12 columns):\n",
      "Unnamed: 0                  316685 non-null int64\n",
      "application_number          316685 non-null int64\n",
      "application_type            316685 non-null object\n",
      "filing_date                 316685 non-null datetime64[ns]\n",
      "grant_date                  316685 non-null datetime64[ns]\n",
      "invention_title             316685 non-null object\n",
      "number-of-drawing-sheets    316685 non-null int64\n",
      "number-of-figures           316685 non-null int64\n",
      "number_of_claims            316685 non-null int64\n",
      "patent_number               316685 non-null object\n",
      "number-of-drawing_sheets    316685 non-null int64\n",
      "prosecution_period          316685 non-null timedelta64[ns]\n",
      "dtypes: datetime64[ns](2), int64(6), object(3), timedelta64[ns](1)\n",
      "memory usage: 41.4+ MB\n"
     ]
    }
   ],
   "source": [
    "utility_patents_subset_df.info()"
   ]
  },
  {
   "cell_type": "code",
   "execution_count": 29,
   "metadata": {},
   "outputs": [],
   "source": [
    "utility_patents_subset_df.prosecution_period = utility_patents_subset_df.prosecution_period.apply(lambda x: x.days)"
   ]
  },
  {
   "cell_type": "code",
   "execution_count": 30,
   "metadata": {},
   "outputs": [
    {
     "data": {
      "text/plain": [
       "count    316685.000000\n",
       "mean       1063.678700\n",
       "std         620.980377\n",
       "min          60.000000\n",
       "25%         627.000000\n",
       "50%         950.000000\n",
       "75%        1355.000000\n",
       "max       11493.000000\n",
       "Name: prosecution_period, dtype: float64"
      ]
     },
     "execution_count": 30,
     "metadata": {},
     "output_type": "execute_result"
    }
   ],
   "source": [
    "utility_patents_subset_df.prosecution_period.describe()"
   ]
  },
  {
   "cell_type": "code",
   "execution_count": 35,
   "metadata": {},
   "outputs": [
    {
     "data": {
      "image/png": "[encoded data removed]",
      "text/plain": [
       "<matplotlib.figure.Figure at 0x11705a828>"
      ]
     },
     "metadata": {},
     "output_type": "display_data"
    }
   ],
   "source": [
    "sns.distplot(utility_patents_subset_df.prosecution_period)\n",
    "\n",
    "plt.show()"
   ]
  },
  {
   "cell_type": "markdown",
   "metadata": {},
   "source": [
    "## Dealing with Prosecution Period Outliers\n",
    "\n",
    "Based on the above histogram with KDE plot, we can see that the prosecution period is skewed by a long tail on the right side.  Similar to the narrowing of the data set that we performed for the `number_of_claims` column, we will filter out all of the values that are greater than 3 standard deviations from the median value."
   ]
  },
  {
   "cell_type": "code",
   "execution_count": 36,
   "metadata": {
    "collapsed": true
   },
   "outputs": [],
   "source": [
    "pros_std_dev = utility_patents_subset_df.prosecution_period.std()\n",
    "pros_median = utility_patents_subset_df.prosecution_period.median()\n",
    "\n",
    "utility_patents_subset_df = utility_patents_subset_df[utility_patents_subset_df.prosecution_period <= (pros_median + 3*pros_std_dev)]"
   ]
  },
  {
   "cell_type": "code",
   "execution_count": 37,
   "metadata": {},
   "outputs": [
    {
     "data": {
      "image/png": "[encoded data removed]",
      "text/plain": [
       "<matplotlib.figure.Figure at 0x11a5c29e8>"
      ]
     },
     "metadata": {},
     "output_type": "display_data"
    }
   ],
   "source": [
    "sns.distplot(utility_patents_subset_df.prosecution_period)\n",
    "\n",
    "plt.show()"
   ]
  },
  {
   "cell_type": "code",
   "execution_count": 40,
   "metadata": {},
   "outputs": [
    {
     "data": {
      "image/png": "[encoded data removed]",
      "text/plain": [
       "<matplotlib.figure.Figure at 0x1a32b25e48>"
      ]
     },
     "metadata": {},
     "output_type": "display_data"
    }
   ],
   "source": [
    "sns.jointplot(x='number_of_claims', y='prosecution_period', data=utility_patents_subset_df, kind=\"kde\")\n",
    "plt.show()"
   ]
  },
  {
   "cell_type": "code",
   "execution_count": 41,
   "metadata": {},
   "outputs": [
    {
     "ename": "TypeError",
     "evalue": "ufunc add cannot use operands with types dtype('<M8[ns]') and dtype('<M8[ns]')",
     "output_type": "error",
     "traceback": [
      "\u001b[0;31m---------------------------------------------------------------------------\u001b[0m",
      "\u001b[0;31mTypeError\u001b[0m                                 Traceback (most recent call last)",
      "\u001b[0;32m<ipython-input-41-7d8d1e271677>\u001b[0m in \u001b[0;36m<module>\u001b[0;34m()\u001b[0m\n\u001b[0;32m----> 1\u001b[0;31m \u001b[0msns\u001b[0m\u001b[0;34m.\u001b[0m\u001b[0mdistplot\u001b[0m\u001b[0;34m(\u001b[0m\u001b[0mutility_patents_subset_df\u001b[0m\u001b[0;34m.\u001b[0m\u001b[0mgrant_date\u001b[0m\u001b[0;34m)\u001b[0m\u001b[0;34m\u001b[0m\u001b[0m\n\u001b[0m\u001b[1;32m      2\u001b[0m \u001b[0mplt\u001b[0m\u001b[0;34m.\u001b[0m\u001b[0mshow\u001b[0m\u001b[0;34m(\u001b[0m\u001b[0;34m)\u001b[0m\u001b[0;34m\u001b[0m\u001b[0m\n",
      "\u001b[0;32m~/anaconda3/lib/python3.6/site-packages/seaborn/distributions.py\u001b[0m in \u001b[0;36mdistplot\u001b[0;34m(a, bins, hist, kde, rug, fit, hist_kws, kde_kws, rug_kws, fit_kws, color, vertical, norm_hist, axlabel, label, ax)\u001b[0m\n\u001b[1;32m    189\u001b[0m             \u001b[0mline\u001b[0m\u001b[0;34m,\u001b[0m \u001b[0;34m=\u001b[0m \u001b[0max\u001b[0m\u001b[0;34m.\u001b[0m\u001b[0mplot\u001b[0m\u001b[0;34m(\u001b[0m\u001b[0;36m0\u001b[0m\u001b[0;34m,\u001b[0m \u001b[0ma\u001b[0m\u001b[0;34m.\u001b[0m\u001b[0mmean\u001b[0m\u001b[0;34m(\u001b[0m\u001b[0;34m)\u001b[0m\u001b[0;34m)\u001b[0m\u001b[0;34m\u001b[0m\u001b[0m\n\u001b[1;32m    190\u001b[0m         \u001b[0;32melse\u001b[0m\u001b[0;34m:\u001b[0m\u001b[0;34m\u001b[0m\u001b[0m\n\u001b[0;32m--> 191\u001b[0;31m             \u001b[0mline\u001b[0m\u001b[0;34m,\u001b[0m \u001b[0;34m=\u001b[0m \u001b[0max\u001b[0m\u001b[0;34m.\u001b[0m\u001b[0mplot\u001b[0m\u001b[0;34m(\u001b[0m\u001b[0ma\u001b[0m\u001b[0;34m.\u001b[0m\u001b[0mmean\u001b[0m\u001b[0;34m(\u001b[0m\u001b[0;34m)\u001b[0m\u001b[0;34m,\u001b[0m \u001b[0;36m0\u001b[0m\u001b[0;34m)\u001b[0m\u001b[0;34m\u001b[0m\u001b[0m\n\u001b[0m\u001b[1;32m    192\u001b[0m         \u001b[0mcolor\u001b[0m \u001b[0;34m=\u001b[0m \u001b[0mline\u001b[0m\u001b[0;34m.\u001b[0m\u001b[0mget_color\u001b[0m\u001b[0;34m(\u001b[0m\u001b[0;34m)\u001b[0m\u001b[0;34m\u001b[0m\u001b[0m\n\u001b[1;32m    193\u001b[0m         \u001b[0mline\u001b[0m\u001b[0;34m.\u001b[0m\u001b[0mremove\u001b[0m\u001b[0;34m(\u001b[0m\u001b[0;34m)\u001b[0m\u001b[0;34m\u001b[0m\u001b[0m\n",
      "\u001b[0;32m~/anaconda3/lib/python3.6/site-packages/numpy/core/_methods.py\u001b[0m in \u001b[0;36m_mean\u001b[0;34m(a, axis, dtype, out, keepdims)\u001b[0m\n\u001b[1;32m     68\u001b[0m             \u001b[0mis_float16_result\u001b[0m \u001b[0;34m=\u001b[0m \u001b[0;32mTrue\u001b[0m\u001b[0;34m\u001b[0m\u001b[0m\n\u001b[1;32m     69\u001b[0m \u001b[0;34m\u001b[0m\u001b[0m\n\u001b[0;32m---> 70\u001b[0;31m     \u001b[0mret\u001b[0m \u001b[0;34m=\u001b[0m \u001b[0mumr_sum\u001b[0m\u001b[0;34m(\u001b[0m\u001b[0marr\u001b[0m\u001b[0;34m,\u001b[0m \u001b[0maxis\u001b[0m\u001b[0;34m,\u001b[0m \u001b[0mdtype\u001b[0m\u001b[0;34m,\u001b[0m \u001b[0mout\u001b[0m\u001b[0;34m,\u001b[0m \u001b[0mkeepdims\u001b[0m\u001b[0;34m)\u001b[0m\u001b[0;34m\u001b[0m\u001b[0m\n\u001b[0m\u001b[1;32m     71\u001b[0m     \u001b[0;32mif\u001b[0m \u001b[0misinstance\u001b[0m\u001b[0;34m(\u001b[0m\u001b[0mret\u001b[0m\u001b[0;34m,\u001b[0m \u001b[0mmu\u001b[0m\u001b[0;34m.\u001b[0m\u001b[0mndarray\u001b[0m\u001b[0;34m)\u001b[0m\u001b[0;34m:\u001b[0m\u001b[0;34m\u001b[0m\u001b[0m\n\u001b[1;32m     72\u001b[0m         ret = um.true_divide(\n",
      "\u001b[0;31mTypeError\u001b[0m: ufunc add cannot use operands with types dtype('<M8[ns]') and dtype('<M8[ns]')"
     ]
    }
   ],
   "source": [
    "sns.distplot(utility_patents_subset_df.grant_date)\n",
    "plt.show()"
   ]
  },
  {
   "cell_type": "code",
   "execution_count": null,
   "metadata": {
    "collapsed": true
   },
   "outputs": [],
   "source": []
  }
 ],
 "metadata": {
  "kernelspec": {
   "display_name": "Python 3",
   "language": "python",
   "name": "python3"
  },
  "language_info": {
   "codemirror_mode": {
    "name": "ipython",
    "version": 3
   },
   "file_extension": ".py",
   "mimetype": "text/x-python",
   "name": "python",
   "nbconvert_exporter": "python",
   "pygments_lexer": "ipython3",
   "version": "3.6.3"
  }
 },
 "nbformat": 4,
 "nbformat_minor": 2
}
