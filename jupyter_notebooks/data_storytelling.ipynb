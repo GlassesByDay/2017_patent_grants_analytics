{
 "cells": [
  {
   "cell_type": "markdown",
   "metadata": {},
   "source": [
    "# Data Storytelling"
   ]
  },
  {
   "cell_type": "markdown",
   "metadata": {},
   "source": [
    "## Imports "
   ]
  },
  {
   "cell_type": "code",
   "execution_count": 1,
   "metadata": {
    "collapsed": true
   },
   "outputs": [],
   "source": [
    "import pandas as pd"
   ]
  },
  {
   "cell_type": "markdown",
   "metadata": {},
   "source": [
    "## Read in intermediate CSV"
   ]
  },
  {
   "cell_type": "code",
   "execution_count": 4,
   "metadata": {
    "collapsed": true
   },
   "outputs": [],
   "source": [
    "all_patents_df = pd.read_csv('../intermediate_csv_files/clean_raw_data.csv', parse_dates=['filing_date','grant_date'])"
   ]
  },
  {
   "cell_type": "code",
   "execution_count": 5,
   "metadata": {},
   "outputs": [
    {
     "name": "stdout",
     "output_type": "stream",
     "text": [
      "<class 'pandas.core.frame.DataFrame'>\n",
      "RangeIndex: 352567 entries, 0 to 352566\n",
      "Data columns (total 10 columns):\n",
      "Unnamed: 0                  352567 non-null int64\n",
      "application_number          352567 non-null int64\n",
      "application_type            352567 non-null object\n",
      "filing_date                 352567 non-null datetime64[ns]\n",
      "grant_date                  352567 non-null datetime64[ns]\n",
      "invention_title             352567 non-null object\n",
      "number-of-drawing-sheets    352567 non-null int64\n",
      "number-of-figures           352567 non-null int64\n",
      "number_of_claims            352567 non-null int64\n",
      "patent_number               352567 non-null object\n",
      "dtypes: datetime64[ns](2), int64(5), object(3)\n",
      "memory usage: 26.9+ MB\n"
     ]
    }
   ],
   "source": [
    "all_patents_df.info()"
   ]
  },
  {
   "cell_type": "markdown",
   "metadata": {},
   "source": [
    "## Data Type Casting"
   ]
  },
  {
   "cell_type": "code",
   "execution_count": 7,
   "metadata": {},
   "outputs": [],
   "source": [
    "all_patents_df[['number-of-drawing_sheets','number-of-figures','number_of_claims']] = all_patents_df[['number-of-drawing-sheets','number-of-figures','number_of_claims']].astype(int) "
   ]
  },
  {
   "cell_type": "code",
   "execution_count": 9,
   "metadata": {},
   "outputs": [
    {
     "name": "stdout",
     "output_type": "stream",
     "text": [
      "<class 'pandas.core.frame.DataFrame'>\n",
      "RangeIndex: 352567 entries, 0 to 352566\n",
      "Data columns (total 11 columns):\n",
      "Unnamed: 0                  352567 non-null int64\n",
      "application_number          352567 non-null int64\n",
      "application_type            352567 non-null object\n",
      "filing_date                 352567 non-null datetime64[ns]\n",
      "grant_date                  352567 non-null datetime64[ns]\n",
      "invention_title             352567 non-null object\n",
      "number-of-drawing-sheets    352567 non-null int64\n",
      "number-of-figures           352567 non-null int64\n",
      "number_of_claims            352567 non-null int64\n",
      "patent_number               352567 non-null object\n",
      "number-of-drawing_sheets    352567 non-null int64\n",
      "dtypes: datetime64[ns](2), int64(6), object(3)\n",
      "memory usage: 29.6+ MB\n"
     ]
    }
   ],
   "source": [
    "all_patents_df.info()"
   ]
  },
  {
   "cell_type": "code",
   "execution_count": 11,
   "metadata": {},
   "outputs": [
    {
     "data": {
      "text/plain": [
       "count    352567.000000\n",
       "mean         14.817195\n",
       "std           9.122482\n",
       "min           1.000000\n",
       "25%           9.000000\n",
       "50%          16.000000\n",
       "75%          20.000000\n",
       "max         381.000000\n",
       "Name: number_of_claims, dtype: float64"
      ]
     },
     "execution_count": 11,
     "metadata": {},
     "output_type": "execute_result"
    }
   ],
   "source": [
    "all_patents_df.number_of_claims.describe()"
   ]
  },
  {
   "cell_type": "code",
   "execution_count": null,
   "metadata": {
    "collapsed": true
   },
   "outputs": [],
   "source": []
  }
 ],
 "metadata": {
  "kernelspec": {
   "display_name": "Python 3",
   "language": "python",
   "name": "python3"
  },
  "language_info": {
   "codemirror_mode": {
    "name": "ipython",
    "version": 3
   },
   "file_extension": ".py",
   "mimetype": "text/x-python",
   "name": "python",
   "nbconvert_exporter": "python",
   "pygments_lexer": "ipython3",
   "version": "3.6.3"
  }
 },
 "nbformat": 4,
 "nbformat_minor": 2
}
