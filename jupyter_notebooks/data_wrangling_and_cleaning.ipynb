{
 "cells": [
  {
   "cell_type": "code",
   "execution_count": null,
   "metadata": {
    "collapsed": true
   },
   "outputs": [],
   "source": [
    "# whenever raw data files have been altered, run \"../scripts/xml_cleaner.py\""
   ]
  },
  {
   "cell_type": "markdown",
   "metadata": {},
   "source": [
    "# Algorithm for extracting data from nested XML files (pre-cleaned)"
   ]
  },
  {
   "cell_type": "code",
   "execution_count": 1,
   "metadata": {
    "collapsed": true
   },
   "outputs": [],
   "source": [
    "import xml.etree.ElementTree as ET\n",
    "import pandas as pd\n",
    "\n",
    "# custom function for extracting data from xml and saving to pandas DataFrame\n",
    "def patent_xml2df(xml_data):\n",
    "    root = ET.XML(xml_data)\n",
    "    all_records = []\n",
    "    for patent in root:\n",
    "        record = {}\n",
    "        for element in patent[0]:\n",
    "            if element.tag == 'publication-reference':\n",
    "                for item in element[0]:\n",
    "                    if item.tag == 'date':\n",
    "                        record['grant_date'] = item.text\n",
    "                    elif item.tag == 'doc-number':\n",
    "                        record['patent_number'] = item.text\n",
    "            elif element.tag == 'application-reference':\n",
    "                record['application_type'] = element.get('appl-type')\n",
    "                for item in element[0]:\n",
    "                    if item.tag == 'date':\n",
    "                        record['filing_date'] = item.text\n",
    "                    elif item.tag == 'doc-number':\n",
    "                        record['application_number'] = item.text\n",
    "            elif element.tag == 'figures':\n",
    "                for item in element:\n",
    "                    record[item.tag] = item.text\n",
    "            elif element.tag == 'us-parties':\n",
    "                address_book = element[0][0][0]\n",
    "                for item in address_book:\n",
    "                    if item.tag == 'address':\n",
    "                        for info in item:\n",
    "                            record[info.tag] = info.text\n",
    "            elif element.tag == 'number-of-claims':\n",
    "                record['number_of_claims'] = element.text\n",
    "            elif element.tag == 'invention-title':\n",
    "                if element.text == None:\n",
    "                    record['invention_title'] = element[0].text + element[0].tail\n",
    "                else:\n",
    "                    record['invention_title'] = element.text\n",
    "        all_records.append(record)\n",
    "    return pd.DataFrame(all_records)"
   ]
  },
  {
   "cell_type": "markdown",
   "metadata": {},
   "source": [
    "# Using globbing to get names of all cleaned XML file paths &\n",
    "# compiling list of DataFrames for concatenation"
   ]
  },
  {
   "cell_type": "code",
   "execution_count": 2,
   "metadata": {
    "collapsed": true
   },
   "outputs": [],
   "source": [
    "import glob\n",
    "\n",
    "# use globbing to get all names of cleaned xml file paths\n",
    "clean_files = glob.glob('../clean_data/*')\n",
    "\n",
    "\n",
    "# loop over file names, extract data and concatenate into single DataFrame\n",
    "xml_data_list = []\n",
    "for clean_file in clean_files:\n",
    "    data = open(clean_file).read()\n",
    "    df = patent_xml2df(data)\n",
    "    xml_data_list.append(df)\n",
    "    \n",
    "patents_df = pd.concat(xml_data_list, ignore_index=True)\n",
    "    "
   ]
  },
  {
   "cell_type": "code",
   "execution_count": 3,
   "metadata": {},
   "outputs": [
    {
     "data": {
      "text/html": [
       "<div>\n",
       "<style>\n",
       "    .dataframe thead tr:only-child th {\n",
       "        text-align: right;\n",
       "    }\n",
       "\n",
       "    .dataframe thead th {\n",
       "        text-align: left;\n",
       "    }\n",
       "\n",
       "    .dataframe tbody tr th {\n",
       "        vertical-align: top;\n",
       "    }\n",
       "</style>\n",
       "<table border=\"1\" class=\"dataframe\">\n",
       "  <thead>\n",
       "    <tr style=\"text-align: right;\">\n",
       "      <th></th>\n",
       "      <th>application_number</th>\n",
       "      <th>application_type</th>\n",
       "      <th>city</th>\n",
       "      <th>country</th>\n",
       "      <th>filing_date</th>\n",
       "      <th>grant_date</th>\n",
       "      <th>invention_title</th>\n",
       "      <th>number-of-drawing-sheets</th>\n",
       "      <th>number-of-figures</th>\n",
       "      <th>number_of_claims</th>\n",
       "      <th>patent_number</th>\n",
       "      <th>state</th>\n",
       "    </tr>\n",
       "  </thead>\n",
       "  <tbody>\n",
       "    <tr>\n",
       "      <th>0</th>\n",
       "      <td>29541102</td>\n",
       "      <td>design</td>\n",
       "      <td>Minneapolis</td>\n",
       "      <td>US</td>\n",
       "      <td>20150930</td>\n",
       "      <td>20171031</td>\n",
       "      <td>Shaped tortilla</td>\n",
       "      <td>3</td>\n",
       "      <td>6</td>\n",
       "      <td>1</td>\n",
       "      <td>D0800990</td>\n",
       "      <td>MN</td>\n",
       "    </tr>\n",
       "    <tr>\n",
       "      <th>1</th>\n",
       "      <td>29539276</td>\n",
       "      <td>design</td>\n",
       "      <td>Atlanta</td>\n",
       "      <td>US</td>\n",
       "      <td>20150911</td>\n",
       "      <td>20171031</td>\n",
       "      <td>Utility belt</td>\n",
       "      <td>7</td>\n",
       "      <td>9</td>\n",
       "      <td>1</td>\n",
       "      <td>D0800991</td>\n",
       "      <td>GA</td>\n",
       "    </tr>\n",
       "    <tr>\n",
       "      <th>2</th>\n",
       "      <td>29555649</td>\n",
       "      <td>design</td>\n",
       "      <td>Baltimore</td>\n",
       "      <td>US</td>\n",
       "      <td>20160224</td>\n",
       "      <td>20171031</td>\n",
       "      <td>Brassiere</td>\n",
       "      <td>7</td>\n",
       "      <td>7</td>\n",
       "      <td>1</td>\n",
       "      <td>D0800992</td>\n",
       "      <td>MD</td>\n",
       "    </tr>\n",
       "    <tr>\n",
       "      <th>3</th>\n",
       "      <td>29519436</td>\n",
       "      <td>design</td>\n",
       "      <td>Karmiel</td>\n",
       "      <td>IL</td>\n",
       "      <td>20150305</td>\n",
       "      <td>20171031</td>\n",
       "      <td>Shirt</td>\n",
       "      <td>4</td>\n",
       "      <td>4</td>\n",
       "      <td>1</td>\n",
       "      <td>D0800993</td>\n",
       "      <td>NaN</td>\n",
       "    </tr>\n",
       "    <tr>\n",
       "      <th>4</th>\n",
       "      <td>35500692</td>\n",
       "      <td>design</td>\n",
       "      <td>Bayreuth</td>\n",
       "      <td>DE</td>\n",
       "      <td>20150908</td>\n",
       "      <td>20171031</td>\n",
       "      <td>Footmuff for a stroller for children</td>\n",
       "      <td>7</td>\n",
       "      <td>7</td>\n",
       "      <td>1</td>\n",
       "      <td>D0800994</td>\n",
       "      <td>NaN</td>\n",
       "    </tr>\n",
       "  </tbody>\n",
       "</table>\n",
       "</div>"
      ],
      "text/plain": [
       "  application_number application_type         city country filing_date  \\\n",
       "0           29541102           design  Minneapolis      US    20150930   \n",
       "1           29539276           design      Atlanta      US    20150911   \n",
       "2           29555649           design    Baltimore      US    20160224   \n",
       "3           29519436           design      Karmiel      IL    20150305   \n",
       "4           35500692           design     Bayreuth      DE    20150908   \n",
       "\n",
       "  grant_date                       invention_title number-of-drawing-sheets  \\\n",
       "0   20171031                       Shaped tortilla                        3   \n",
       "1   20171031                          Utility belt                        7   \n",
       "2   20171031                             Brassiere                        7   \n",
       "3   20171031                                 Shirt                        4   \n",
       "4   20171031  Footmuff for a stroller for children                        7   \n",
       "\n",
       "  number-of-figures number_of_claims patent_number state  \n",
       "0                 6                1      D0800990    MN  \n",
       "1                 9                1      D0800991    GA  \n",
       "2                 7                1      D0800992    MD  \n",
       "3                 4                1      D0800993   NaN  \n",
       "4                 7                1      D0800994   NaN  "
      ]
     },
     "execution_count": 3,
     "metadata": {},
     "output_type": "execute_result"
    }
   ],
   "source": [
    "patents_df.head()"
   ]
  },
  {
   "cell_type": "markdown",
   "metadata": {},
   "source": [
    "# Casting Data Types for Specific Columns"
   ]
  },
  {
   "cell_type": "code",
   "execution_count": 4,
   "metadata": {
    "collapsed": true
   },
   "outputs": [],
   "source": [
    "# change the \"filing_date\" and \"grant_date\" columns to datetime objects\n",
    "patents_df['filing_date'] = pd.to_datetime(patents_df['filing_date'])\n",
    "patents_df['grant_date'] = pd.to_datetime(patents_df['grant_date'])\n",
    "\n",
    "# change number-of-claims column to type int\n",
    "patents_df['number_of_claims'] = patents_df['number_of_claims'].astype(int)"
   ]
  },
  {
   "cell_type": "markdown",
   "metadata": {},
   "source": [
    "# Filling Null Values \n",
    "\n",
    "### Filling with '0' for scalar values (i.e., these values are 'NaN' in raw XML when value is zero)"
   ]
  },
  {
   "cell_type": "code",
   "execution_count": 5,
   "metadata": {
    "collapsed": true
   },
   "outputs": [],
   "source": [
    "patents_df['number-of-drawing-sheets'] = patents_df['number-of-drawing-sheets'].fillna('0')\n",
    "patents_df['number-of-figures'] = patents_df['number-of-figures'].fillna('0')"
   ]
  },
  {
   "cell_type": "markdown",
   "metadata": {},
   "source": [
    "### Filling NaN values in address values (`country`, `state` and `city`) with 'missing'"
   ]
  },
  {
   "cell_type": "code",
   "execution_count": 9,
   "metadata": {
    "collapsed": true
   },
   "outputs": [],
   "source": [
    "patents_df['state'] = patents_df['state'].fillna('missing')\n",
    "patents_df['country'] = patents_df['country'].fillna('missing')\n",
    "patents_df['city'] = patents_df['city'].fillna('missing')"
   ]
  },
  {
   "cell_type": "markdown",
   "metadata": {},
   "source": [
    "# Conclusions:  'Null' values\n",
    "\n",
    "There are 12633 patent grants that do not contain figures or drawings (and thus have zero drawing sheets).\n",
    "\n",
    "Many of the patent applicants are located outside the US and therefore have no `state` value in the XML.  In addition, some patent records simply don't include an address for the applicant.  For those patents, the Null address values (`country`, `state` and `city`) were replaced with 'missing' for clarification.\n",
    "\n",
    "The `invention_title` elements in the raw XML files often contained nested styling tags (e.g., the italics tag &lt;i&gt; was used for genus names of plants and other living organisms)."
   ]
  },
  {
   "cell_type": "code",
   "execution_count": 10,
   "metadata": {
    "collapsed": true
   },
   "outputs": [],
   "source": [
    "patents_df.to_csv('../intermediate_csv_files/clean_raw_data.csv')"
   ]
  },
  {
   "cell_type": "code",
   "execution_count": null,
   "metadata": {
    "collapsed": true
   },
   "outputs": [],
   "source": []
  }
 ],
 "metadata": {
  "kernelspec": {
   "display_name": "Python 3",
   "language": "python",
   "name": "python3"
  },
  "language_info": {
   "codemirror_mode": {
    "name": "ipython",
    "version": 3
   },
   "file_extension": ".py",
   "mimetype": "text/x-python",
   "name": "python",
   "nbconvert_exporter": "python",
   "pygments_lexer": "ipython3",
   "version": "3.6.3"
  }
 },
 "nbformat": 4,
 "nbformat_minor": 2
}
